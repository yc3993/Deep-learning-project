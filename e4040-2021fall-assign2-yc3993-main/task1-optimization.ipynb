{
 "cells": [
  {
   "cell_type": "markdown",
   "metadata": {
    "id": "I5a8lAWOfmmy"
   },
   "source": [
    "## Columbia University\n",
    "### ECBM E4040 Neural Networks and Deep Learning. Fall 2021."
   ]
  },
  {
   "cell_type": "markdown",
   "metadata": {
    "id": "E_bepwPRfmnM"
   },
   "source": [
    "## Assignment 2 - Task 1: Optimization\n",
    "\n",
    "In this task, we introduce several improved stochastic gradient descent (SGD) based optimization methods. Plain/naive SGD is a reasonable method to update neural network parameters. However, to make SGD perform well, one would need to find an appropriate learning rate and a good initial value. Otherwise, the network will get stuck if the learning rate is small, or it will diverge if the learning rate is too large. In reality, since we have no prior knowledge about the training data, it is not trivial to find a good learning rate manually. Also, when the network becomes deeper, for each layer one may need to set a different learning rate. Another common problem is the lack of sufficient training data. This can cause the training to get stuck when using the naive SGD method. These are the limitations of the plain SGD, which are motivators for creating and using improved SGD-based methods. \n",
    "\n",
    "To understand the process of setting a good learning rate, one can rely on adaptive learning rate methods. Here, you are going to experiment with **SGD with momentum**, **SGD with nesterov momentum**, **AdaGrad**, **Adam** and compare them against one another.\n",
    "All of these optimizers are adaptive learning rate methods. Here is a useful link to learn more about each method used in this task: http://ruder.io/optimizing-gradient-descent/."
   ]
  },
  {
   "cell_type": "code",
   "execution_count": 1,
   "metadata": {
    "id": "5kwQ5NoOfmnP"
   },
   "outputs": [],
   "source": [
    "%load_ext autoreload\n",
    "%autoreload 2\n",
    "%matplotlib inline\n",
    "\n",
    "# Import modules\n",
    "import os\n",
    "import numpy as np\n",
    "import matplotlib.pyplot as plt\n",
    "from tensorflow.keras.datasets import fashion_mnist"
   ]
  },
  {
   "cell_type": "markdown",
   "metadata": {
    "id": "Da7zcFQffmnd"
   },
   "source": [
    "## Load Fashion-MNIST\n",
    "\n",
    "Here we use a small dataset with only 2500 samples to simulate the \"lack-of-data\" situation."
   ]
  },
  {
   "cell_type": "code",
   "execution_count": 2,
   "metadata": {
    "colab": {
     "base_uri": "https://localhost:8080/"
    },
    "executionInfo": {
     "elapsed": 1698,
     "status": "ok",
     "timestamp": 1631138412954,
     "user": {
      "displayName": "Sung Jun Won",
      "photoUrl": "",
      "userId": "15792990474350106348"
     },
     "user_tz": 240
    },
    "id": "PpxLY-MWfmne",
    "outputId": "dc0a48ce-34f5-41bb-be66-23a1fb1389bc"
   },
   "outputs": [
    {
     "name": "stdout",
     "output_type": "stream",
     "text": [
      "Training data shape:  (2000, 784)\n",
      "Training labels shape:  (2000,)\n",
      "Validation data shape:  (500, 784)\n",
      "Validation labels shape:  (500,)\n"
     ]
    }
   ],
   "source": [
    "# Load the raw Fashion-MNIST data.\n",
    "train, val = fashion_mnist.load_data()\n",
    "\n",
    "X_train_raw, y_train = train\n",
    "X_val_raw, y_val = val\n",
    "\n",
    "X_train = X_train_raw.reshape((X_train_raw.shape[0], X_train_raw.shape[1]**2))\n",
    "X_val = X_val_raw.reshape((X_val_raw.shape[0], X_val_raw.shape[1]**2))\n",
    "\n",
    "#Consider a subset of 2500 samples of the 60000 total images (indexed 10000 ~ 12500)\n",
    "X_val = X_train[10000:10500,:]\n",
    "y_val = y_train[10000:10500]\n",
    "X_train = X_train[10500:12500,:]\n",
    "y_train = y_train[10500:12500]\n",
    "\n",
    "mean_image = np.mean(X_train, axis=0).astype(np.float32)\n",
    "X_train = X_train.astype(np.float32) - mean_image\n",
    "X_val = X_val.astype(np.float32) - mean_image\n",
    "\n",
    "# We have vectorized the data for you. That is, we flatten the 32×32×3 images into 1×3072 Numpy arrays.\n",
    "print('Training data shape: ', X_train.shape)\n",
    "print('Training labels shape: ', y_train.shape)\n",
    "print('Validation data shape: ', X_val.shape)\n",
    "print('Validation labels shape: ', y_val.shape)"
   ]
  },
  {
   "cell_type": "markdown",
   "metadata": {
    "id": "20tnMCjyfmnh"
   },
   "source": [
    "## Part 1: Implement Several Optimizers\n",
    "\n",
    "Instructors provide code snippets for testing student code implementations.\n",
    "\n",
    "The best anticipated achievable accuracies are around 0.3-0.4."
   ]
  },
  {
   "cell_type": "code",
   "execution_count": 3,
   "metadata": {
    "id": "loz33g8Ufmnk"
   },
   "outputs": [],
   "source": [
    "from utils.neuralnets.mlp import MLP"
   ]
  },
  {
   "cell_type": "markdown",
   "metadata": {
    "id": "X_4iVMT2fmnm"
   },
   "source": [
    "### Original SGD with learning rate decay (for comparison purposes only)"
   ]
  },
  {
   "cell_type": "code",
   "execution_count": 4,
   "metadata": {
    "colab": {
     "base_uri": "https://localhost:8080/"
    },
    "executionInfo": {
     "elapsed": 4609,
     "status": "ok",
     "timestamp": 1631138989515,
     "user": {
      "displayName": "Sung Jun Won",
      "photoUrl": "",
      "userId": "15792990474350106348"
     },
     "user_tz": 240
    },
    "id": "crxdrUTvfmnn",
    "outputId": "8c1cb517-e687-407d-bcf3-300b29383430"
   },
   "outputs": [
    {
     "name": "stdout",
     "output_type": "stream",
     "text": [
      "number of batches for training: 10\n",
      "epoch 1: valid acc = 0.116, new learning rate = 0.0095\n",
      "epoch 2: valid acc = 0.192, new learning rate = 0.009025\n",
      "epoch 3: valid acc = 0.194, new learning rate = 0.00857375\n",
      "epoch 4: valid acc = 0.198, new learning rate = 0.0081450625\n",
      "epoch 5: valid acc = 0.206, new learning rate = 0.007737809374999999\n",
      "epoch 6: valid acc = 0.2, new learning rate = 0.007350918906249998\n",
      "epoch 7: valid acc = 0.202, new learning rate = 0.006983372960937498\n",
      "epoch 8: valid acc = 0.2, new learning rate = 0.006634204312890623\n",
      "epoch 9: valid acc = 0.202, new learning rate = 0.006302494097246091\n",
      "epoch 10: valid acc = 0.202, new learning rate = 0.005987369392383786\n",
      "epoch 11: valid acc = 0.204, new learning rate = 0.005688000922764597\n",
      "epoch 12: valid acc = 0.214, new learning rate = 0.005403600876626367\n",
      "epoch 13: valid acc = 0.212, new learning rate = 0.005133420832795048\n",
      "epoch 14: valid acc = 0.208, new learning rate = 0.0048767497911552955\n",
      "epoch 15: valid acc = 0.202, new learning rate = 0.00463291230159753\n",
      "epoch 16: valid acc = 0.204, new learning rate = 0.0044012666865176535\n",
      "epoch 17: valid acc = 0.204, new learning rate = 0.004181203352191771\n",
      "epoch 18: valid acc = 0.206, new learning rate = 0.003972143184582182\n",
      "epoch 19: valid acc = 0.206, new learning rate = 0.0037735360253530726\n",
      "epoch 20: valid acc = 0.206, new learning rate = 0.0035848592240854188\n",
      "epoch 21: valid acc = 0.204, new learning rate = 0.0034056162628811476\n",
      "epoch 22: valid acc = 0.204, new learning rate = 0.0032353354497370902\n",
      "epoch 23: valid acc = 0.204, new learning rate = 0.0030735686772502355\n",
      "epoch 24: valid acc = 0.204, new learning rate = 0.0029198902433877237\n",
      "epoch 25: valid acc = 0.206, new learning rate = 0.0027738957312183374\n",
      "epoch 26: valid acc = 0.208, new learning rate = 0.0026352009446574203\n",
      "epoch 27: valid acc = 0.21, new learning rate = 0.002503440897424549\n",
      "epoch 28: valid acc = 0.21, new learning rate = 0.0023782688525533216\n",
      "epoch 29: valid acc = 0.21, new learning rate = 0.0022593554099256553\n",
      "epoch 30: valid acc = 0.21, new learning rate = 0.0021463876394293723\n"
     ]
    }
   ],
   "source": [
    "from utils.optimizers import SGDOptim\n",
    "\n",
    "model = MLP(input_dim=X_train.shape[1], hidden_dims=[100, 100], num_classes=10, weight_scale=1e-3, l2_reg=0.0)\n",
    "optimizer = SGDOptim()\n",
    "hist_sgd = optimizer.train(model, X_train, y_train, X_val, y_val, \n",
    "                           num_epoch=30, batch_size=200, learning_rate=1e-2, learning_decay=0.95, \n",
    "                           verbose=False, record_interval=1)"
   ]
  },
  {
   "cell_type": "markdown",
   "metadata": {
    "id": "ZauLVUBlfmno"
   },
   "source": [
    "### SGD + Momentum\n",
    "\n",
    "<span style=\"color:red\">__TODO:__</span> Implement SGD + Momentum by editing **SGDmomentumOptim** in __./utils/optimizers.py__"
   ]
  },
  {
   "cell_type": "code",
   "execution_count": 5,
   "metadata": {
    "colab": {
     "base_uri": "https://localhost:8080/"
    },
    "executionInfo": {
     "elapsed": 5250,
     "status": "ok",
     "timestamp": 1631139111767,
     "user": {
      "displayName": "Sung Jun Won",
      "photoUrl": "",
      "userId": "15792990474350106348"
     },
     "user_tz": 240
    },
    "id": "oFTM2qtafmno",
    "outputId": "03fbd2a0-336b-4177-98dc-38cb6c5a3027"
   },
   "outputs": [
    {
     "name": "stdout",
     "output_type": "stream",
     "text": [
      "number of batches for training: 10\n",
      "epoch 1: valid acc = 0.152, new learning rate = 0.0095\n",
      "epoch 2: valid acc = 0.194, new learning rate = 0.009025\n",
      "epoch 3: valid acc = 0.204, new learning rate = 0.00857375\n",
      "epoch 4: valid acc = 0.222, new learning rate = 0.0081450625\n",
      "epoch 5: valid acc = 0.218, new learning rate = 0.007737809374999999\n",
      "epoch 6: valid acc = 0.216, new learning rate = 0.007350918906249998\n",
      "epoch 7: valid acc = 0.214, new learning rate = 0.006983372960937498\n",
      "epoch 8: valid acc = 0.34, new learning rate = 0.006634204312890623\n",
      "epoch 9: valid acc = 0.406, new learning rate = 0.006302494097246091\n",
      "epoch 10: valid acc = 0.426, new learning rate = 0.005987369392383786\n",
      "epoch 11: valid acc = 0.418, new learning rate = 0.005688000922764597\n",
      "epoch 12: valid acc = 0.426, new learning rate = 0.005403600876626367\n",
      "epoch 13: valid acc = 0.442, new learning rate = 0.005133420832795048\n",
      "epoch 14: valid acc = 0.512, new learning rate = 0.0048767497911552955\n",
      "epoch 15: valid acc = 0.538, new learning rate = 0.00463291230159753\n",
      "epoch 16: valid acc = 0.556, new learning rate = 0.0044012666865176535\n",
      "epoch 17: valid acc = 0.542, new learning rate = 0.004181203352191771\n",
      "epoch 18: valid acc = 0.562, new learning rate = 0.003972143184582182\n",
      "epoch 19: valid acc = 0.606, new learning rate = 0.0037735360253530726\n",
      "epoch 20: valid acc = 0.616, new learning rate = 0.0035848592240854188\n",
      "epoch 21: valid acc = 0.604, new learning rate = 0.0034056162628811476\n",
      "epoch 22: valid acc = 0.664, new learning rate = 0.0032353354497370902\n",
      "epoch 23: valid acc = 0.688, new learning rate = 0.0030735686772502355\n",
      "epoch 24: valid acc = 0.698, new learning rate = 0.0029198902433877237\n",
      "epoch 25: valid acc = 0.664, new learning rate = 0.0027738957312183374\n",
      "epoch 26: valid acc = 0.688, new learning rate = 0.0026352009446574203\n",
      "epoch 27: valid acc = 0.69, new learning rate = 0.002503440897424549\n",
      "epoch 28: valid acc = 0.676, new learning rate = 0.0023782688525533216\n",
      "epoch 29: valid acc = 0.686, new learning rate = 0.0022593554099256553\n",
      "epoch 30: valid acc = 0.708, new learning rate = 0.0021463876394293723\n"
     ]
    }
   ],
   "source": [
    "# Verification code for your implemention\n",
    "# Please don't change anything.\n",
    "\n",
    "from utils.optimizers import SGDmomentumOptim\n",
    "\n",
    "model = MLP(input_dim=X_train.shape[1], hidden_dims=[100, 100], num_classes=10, l2_reg=0.0, weight_scale=1e-3, momentum=0.8)\n",
    "optimizer = SGDmomentumOptim(model, momentum=0.8)\n",
    "hist_sgd_momentum = optimizer.train(model, X_train, y_train, X_val, y_val, \n",
    "                                         num_epoch=30, batch_size=200, learning_rate=1e-2, \n",
    "                                         learning_decay=0.95, verbose=False, record_interval=1)"
   ]
  },
  {
   "cell_type": "markdown",
   "metadata": {
    "id": "69CIXBpLfmnq"
   },
   "source": [
    "### AdaGrad\n",
    "\n",
    "<span style=\"color:red\">__TODO:__</span> Implement Adam by editing **AdaGradOptim** in ./utils/optimizers.py"
   ]
  },
  {
   "cell_type": "code",
   "execution_count": 23,
   "metadata": {
    "colab": {
     "base_uri": "https://localhost:8080/"
    },
    "executionInfo": {
     "elapsed": 4608,
     "status": "ok",
     "timestamp": 1631139255047,
     "user": {
      "displayName": "Sung Jun Won",
      "photoUrl": "",
      "userId": "15792990474350106348"
     },
     "user_tz": 240
    },
    "id": "_bZaCA7Qfmnr",
    "outputId": "e740e6d2-d04a-4954-c957-af46c01c387d"
   },
   "outputs": [
    {
     "name": "stdout",
     "output_type": "stream",
     "text": [
      "number of batches for training: 10\n",
      "epoch 1: valid acc = 0.206, new learning rate = 0.00095\n",
      "epoch 2: valid acc = 0.232, new learning rate = 0.0009025\n",
      "epoch 3: valid acc = 0.286, new learning rate = 0.000857375\n",
      "epoch 4: valid acc = 0.368, new learning rate = 0.0008145062499999999\n",
      "epoch 5: valid acc = 0.38, new learning rate = 0.0007737809374999998\n",
      "epoch 6: valid acc = 0.394, new learning rate = 0.0007350918906249997\n",
      "epoch 7: valid acc = 0.452, new learning rate = 0.0006983372960937497\n",
      "epoch 8: valid acc = 0.468, new learning rate = 0.0006634204312890621\n",
      "epoch 9: valid acc = 0.556, new learning rate = 0.000630249409724609\n",
      "epoch 10: valid acc = 0.56, new learning rate = 0.0005987369392383785\n",
      "epoch 11: valid acc = 0.568, new learning rate = 0.0005688000922764595\n",
      "epoch 12: valid acc = 0.576, new learning rate = 0.0005403600876626365\n",
      "epoch 13: valid acc = 0.578, new learning rate = 0.0005133420832795047\n",
      "epoch 14: valid acc = 0.58, new learning rate = 0.00048767497911552944\n",
      "epoch 15: valid acc = 0.59, new learning rate = 0.00046329123015975297\n",
      "epoch 16: valid acc = 0.588, new learning rate = 0.0004401266686517653\n",
      "epoch 17: valid acc = 0.594, new learning rate = 0.00041812033521917703\n",
      "epoch 18: valid acc = 0.602, new learning rate = 0.00039721431845821814\n",
      "epoch 19: valid acc = 0.612, new learning rate = 0.0003773536025353072\n",
      "epoch 20: valid acc = 0.616, new learning rate = 0.0003584859224085418\n",
      "epoch 21: valid acc = 0.618, new learning rate = 0.0003405616262881147\n",
      "epoch 22: valid acc = 0.622, new learning rate = 0.00032353354497370894\n",
      "epoch 23: valid acc = 0.622, new learning rate = 0.00030735686772502346\n",
      "epoch 24: valid acc = 0.632, new learning rate = 0.00029198902433877225\n",
      "epoch 25: valid acc = 0.636, new learning rate = 0.00027738957312183364\n",
      "epoch 26: valid acc = 0.63, new learning rate = 0.0002635200944657419\n",
      "epoch 27: valid acc = 0.63, new learning rate = 0.0002503440897424548\n",
      "epoch 28: valid acc = 0.636, new learning rate = 0.00023782688525533205\n",
      "epoch 29: valid acc = 0.636, new learning rate = 0.00022593554099256544\n",
      "epoch 30: valid acc = 0.636, new learning rate = 0.00021463876394293716\n"
     ]
    }
   ],
   "source": [
    "# Verification code for your implemention\n",
    "# Please don't change anything.\n",
    "\n",
    "from utils.optimizers import AdaGradOptim\n",
    "\n",
    "model = MLP(input_dim=X_train.shape[1], hidden_dims=[100, 100], num_classes=10, l2_reg=0.0, weight_scale=1e-3)\n",
    "optimizer = AdaGradOptim(model)\n",
    "hist_adagrad = optimizer.train(model, X_train, y_train, X_val, y_val, \n",
    "                               num_epoch=30, batch_size=200, learning_rate=1e-3, \n",
    "                               learning_decay=0.95, verbose=False, record_interval=1)"
   ]
  },
  {
   "cell_type": "markdown",
   "metadata": {
    "id": "T5ZEf-udfmnv"
   },
   "source": [
    "### Adam\n",
    "\n",
    "<span style=\"color:red\">__TODO:__</span> Implement Adam by editing **AdamOptim** in ./utils/optimizers.py"
   ]
  },
  {
   "cell_type": "code",
   "execution_count": 7,
   "metadata": {
    "colab": {
     "base_uri": "https://localhost:8080/"
    },
    "executionInfo": {
     "elapsed": 5220,
     "status": "ok",
     "timestamp": 1631139271319,
     "user": {
      "displayName": "Sung Jun Won",
      "photoUrl": "",
      "userId": "15792990474350106348"
     },
     "user_tz": 240
    },
    "id": "aTws4phjfmnw",
    "outputId": "90f0732d-6062-4b8e-ffaf-6978d05958bf"
   },
   "outputs": [
    {
     "name": "stdout",
     "output_type": "stream",
     "text": [
      "number of batches for training: 10\n",
      "epoch 1: valid acc = 0.212, new learning rate = 0.00095\n",
      "epoch 2: valid acc = 0.214, new learning rate = 0.0009025\n",
      "epoch 3: valid acc = 0.376, new learning rate = 0.000857375\n",
      "epoch 4: valid acc = 0.45, new learning rate = 0.0008145062499999999\n",
      "epoch 5: valid acc = 0.518, new learning rate = 0.0007737809374999998\n",
      "epoch 6: valid acc = 0.59, new learning rate = 0.0007350918906249997\n",
      "epoch 7: valid acc = 0.624, new learning rate = 0.0006983372960937497\n",
      "epoch 8: valid acc = 0.644, new learning rate = 0.0006634204312890621\n",
      "epoch 9: valid acc = 0.66, new learning rate = 0.000630249409724609\n",
      "epoch 10: valid acc = 0.666, new learning rate = 0.0005987369392383785\n",
      "epoch 11: valid acc = 0.664, new learning rate = 0.0005688000922764595\n",
      "epoch 12: valid acc = 0.652, new learning rate = 0.0005403600876626365\n",
      "epoch 13: valid acc = 0.66, new learning rate = 0.0005133420832795047\n",
      "epoch 14: valid acc = 0.686, new learning rate = 0.00048767497911552944\n",
      "epoch 15: valid acc = 0.716, new learning rate = 0.00046329123015975297\n",
      "epoch 16: valid acc = 0.718, new learning rate = 0.0004401266686517653\n",
      "epoch 17: valid acc = 0.698, new learning rate = 0.00041812033521917703\n",
      "epoch 18: valid acc = 0.714, new learning rate = 0.00039721431845821814\n",
      "epoch 19: valid acc = 0.77, new learning rate = 0.0003773536025353072\n",
      "epoch 20: valid acc = 0.772, new learning rate = 0.0003584859224085418\n",
      "epoch 21: valid acc = 0.774, new learning rate = 0.0003405616262881147\n",
      "epoch 22: valid acc = 0.772, new learning rate = 0.00032353354497370894\n",
      "epoch 23: valid acc = 0.77, new learning rate = 0.00030735686772502346\n",
      "epoch 24: valid acc = 0.768, new learning rate = 0.00029198902433877225\n",
      "epoch 25: valid acc = 0.768, new learning rate = 0.00027738957312183364\n",
      "epoch 26: valid acc = 0.764, new learning rate = 0.0002635200944657419\n",
      "epoch 27: valid acc = 0.762, new learning rate = 0.0002503440897424548\n",
      "epoch 28: valid acc = 0.76, new learning rate = 0.00023782688525533205\n",
      "epoch 29: valid acc = 0.76, new learning rate = 0.00022593554099256544\n",
      "epoch 30: valid acc = 0.758, new learning rate = 0.00021463876394293716\n"
     ]
    }
   ],
   "source": [
    "# Verification code for your implemention\n",
    "# Please don't change anything.\n",
    "\n",
    "from utils.optimizers import AdamOptim\n",
    "\n",
    "model = MLP(input_dim=X_train.shape[1], hidden_dims=[100, 100], num_classes=10, l2_reg=0.0, weight_scale=1e-3)\n",
    "optimizer = AdamOptim(model)\n",
    "hist_adam = optimizer.train(model, X_train, y_train, X_val, y_val, \n",
    "                            num_epoch=30, batch_size=200, learning_rate=1e-3, \n",
    "                            learning_decay=0.95, verbose=False, record_interval=1)"
   ]
  },
  {
   "cell_type": "markdown",
   "metadata": {},
   "source": [
    "### Nadam\n",
    "\n",
    "<span style=\"color:red\">__TODO:__</span> Implement Nadam by editing **NadamOptim** in __./utils/optimizers.py__."
   ]
  },
  {
   "cell_type": "code",
   "execution_count": 8,
   "metadata": {},
   "outputs": [
    {
     "name": "stdout",
     "output_type": "stream",
     "text": [
      "number of batches for training: 10\n",
      "epoch 1: valid acc = 0.204, new learning rate = 0.00095\n",
      "epoch 2: valid acc = 0.346, new learning rate = 0.0009025\n",
      "epoch 3: valid acc = 0.384, new learning rate = 0.000857375\n",
      "epoch 4: valid acc = 0.45, new learning rate = 0.0008145062499999999\n",
      "epoch 5: valid acc = 0.646, new learning rate = 0.0007737809374999998\n",
      "epoch 6: valid acc = 0.602, new learning rate = 0.0007350918906249997\n",
      "epoch 7: valid acc = 0.694, new learning rate = 0.0006983372960937497\n",
      "epoch 8: valid acc = 0.696, new learning rate = 0.0006634204312890621\n",
      "epoch 9: valid acc = 0.692, new learning rate = 0.000630249409724609\n",
      "epoch 10: valid acc = 0.748, new learning rate = 0.0005987369392383785\n",
      "epoch 11: valid acc = 0.744, new learning rate = 0.0005688000922764595\n",
      "epoch 12: valid acc = 0.784, new learning rate = 0.0005403600876626365\n",
      "epoch 13: valid acc = 0.836, new learning rate = 0.0005133420832795047\n",
      "epoch 14: valid acc = 0.834, new learning rate = 0.00048767497911552944\n",
      "epoch 15: valid acc = 0.838, new learning rate = 0.00046329123015975297\n",
      "epoch 16: valid acc = 0.838, new learning rate = 0.0004401266686517653\n",
      "epoch 17: valid acc = 0.84, new learning rate = 0.00041812033521917703\n",
      "epoch 18: valid acc = 0.842, new learning rate = 0.00039721431845821814\n",
      "epoch 19: valid acc = 0.838, new learning rate = 0.0003773536025353072\n",
      "epoch 20: valid acc = 0.842, new learning rate = 0.0003584859224085418\n",
      "epoch 21: valid acc = 0.84, new learning rate = 0.0003405616262881147\n",
      "epoch 22: valid acc = 0.842, new learning rate = 0.00032353354497370894\n",
      "epoch 23: valid acc = 0.84, new learning rate = 0.00030735686772502346\n",
      "epoch 24: valid acc = 0.84, new learning rate = 0.00029198902433877225\n",
      "epoch 25: valid acc = 0.84, new learning rate = 0.00027738957312183364\n",
      "epoch 26: valid acc = 0.842, new learning rate = 0.0002635200944657419\n",
      "epoch 27: valid acc = 0.842, new learning rate = 0.0002503440897424548\n",
      "epoch 28: valid acc = 0.842, new learning rate = 0.00023782688525533205\n",
      "epoch 29: valid acc = 0.844, new learning rate = 0.00022593554099256544\n",
      "epoch 30: valid acc = 0.844, new learning rate = 0.00021463876394293716\n"
     ]
    }
   ],
   "source": [
    "# Verification code for your implemention\n",
    "# Please don't change anything.\n",
    "\n",
    "from utils.optimizers import NadamOptim\n",
    "\n",
    "model = MLP(input_dim=X_train.shape[1], hidden_dims=[100, 100], num_classes=10, l2_reg=0.0, weight_scale=1e-3)\n",
    "optimizer = NadamOptim(model, beta1=0.9, beta2=0.999, eps=1e-8)\n",
    "hist_sgd_nadam = optimizer.train(model, X_train, y_train, X_val, y_val, \n",
    "                                         num_epoch=30, batch_size=200, learning_rate=1e-3, \n",
    "                                         learning_decay=0.95, verbose=False, record_interval=1)"
   ]
  },
  {
   "cell_type": "markdown",
   "metadata": {
    "id": "Dga2dgGxfmny"
   },
   "source": [
    "## Part 2: Comparison\n",
    "\n",
    "<span style=\"color:red\">__TODO:__</span> Run the following cells, which plot the loss, training accuracy, and validation accuracy curves of different optimizers."
   ]
  },
  {
   "cell_type": "code",
   "execution_count": 24,
   "metadata": {
    "id": "Mzui75QUfmny"
   },
   "outputs": [],
   "source": [
    "loss_hist_sgd, train_acc_hist_sgd, val_acc_hist_sgd = hist_sgd\n",
    "loss_hist_momentum, train_acc_hist_momentum, val_acc_hist_momentum = hist_sgd_momentum\n",
    "loss_hist_nesterov, train_acc_hist_nesterov, val_acc_hist_nesterov = hist_sgd_nadam\n",
    "loss_hist_adagrad, train_acc_hist_adagrad, val_acc_hist_adagrad = hist_adagrad\n",
    "loss_hist_adam, train_acc_hist_adam, val_acc_hist_adam = hist_adam"
   ]
  },
  {
   "cell_type": "code",
   "execution_count": 25,
   "metadata": {
    "colab": {
     "base_uri": "https://localhost:8080/",
     "height": 265
    },
    "executionInfo": {
     "elapsed": 410,
     "status": "ok",
     "timestamp": 1631139318716,
     "user": {
      "displayName": "Sung Jun Won",
      "photoUrl": "",
      "userId": "15792990474350106348"
     },
     "user_tz": 240
    },
    "id": "oX9CyZjLfmnz",
    "outputId": "ce4a99cd-8663-4a2c-cdca-6ab7b95125c9"
   },
   "outputs": [
    {
     "data": {
      "image/png": "[encoded data removed]",
      "text/plain": [
       "<Figure size 432x288 with 1 Axes>"
      ]
     },
     "metadata": {
      "needs_background": "light"
     },
     "output_type": "display_data"
    }
   ],
   "source": [
    "# Plot the training error curves for implemented optimizers\n",
    "plt.plot(loss_hist_sgd, label=\"sgd\")\n",
    "plt.plot(loss_hist_momentum, label=\"momentum\")\n",
    "plt.plot(loss_hist_nesterov, label=\"nadam\")\n",
    "plt.plot(loss_hist_adagrad, label=\"adagrad\")\n",
    "plt.plot(loss_hist_adam, label=\"adam\")\n",
    "plt.legend()\n",
    "plt.show()"
   ]
  },
  {
   "cell_type": "code",
   "execution_count": 26,
   "metadata": {
    "colab": {
     "base_uri": "https://localhost:8080/",
     "height": 268
    },
    "executionInfo": {
     "elapsed": 291,
     "status": "ok",
     "timestamp": 1631139328348,
     "user": {
      "displayName": "Sung Jun Won",
      "photoUrl": "",
      "userId": "15792990474350106348"
     },
     "user_tz": 240
    },
    "id": "JVigWVU1fmn0",
    "outputId": "c836fcfb-5350-4fbc-ccee-32270aa834e8"
   },
   "outputs": [
    {
     "data": {
      "image/png": "[encoded data removed]",
      "text/plain": [
       "<Figure size 432x288 with 1 Axes>"
      ]
     },
     "metadata": {
      "needs_background": "light"
     },
     "output_type": "display_data"
    }
   ],
   "source": [
    "# Plot the training accuracy curves for implemented optimizers\n",
    "plt.plot(train_acc_hist_sgd, label=\"sgd\")\n",
    "plt.plot(train_acc_hist_momentum, label=\"momentum\")\n",
    "plt.plot(train_acc_hist_nesterov, label=\"nadam\")\n",
    "plt.plot(train_acc_hist_adagrad, label=\"adagrad\")\n",
    "plt.plot(train_acc_hist_adam, label=\"adam\")\n",
    "plt.legend()\n",
    "plt.show()"
   ]
  },
  {
   "cell_type": "code",
   "execution_count": 27,
   "metadata": {
    "colab": {
     "base_uri": "https://localhost:8080/",
     "height": 265
    },
    "executionInfo": {
     "elapsed": 298,
     "status": "ok",
     "timestamp": 1631139339586,
     "user": {
      "displayName": "Sung Jun Won",
      "photoUrl": "",
      "userId": "15792990474350106348"
     },
     "user_tz": 240
    },
    "id": "7AIf6zjpfmn1",
    "outputId": "25c10de5-13a4-40f9-e721-68f2d9ceb852"
   },
   "outputs": [
    {
     "data": {
      "image/png": "[encoded data removed]",
      "text/plain": [
       "<Figure size 432x288 with 1 Axes>"
      ]
     },
     "metadata": {
      "needs_background": "light"
     },
     "output_type": "display_data"
    }
   ],
   "source": [
    "# Plot the validation accuracy curves for implemented optimizers\n",
    "plt.plot(val_acc_hist_sgd, label=\"sgd\")\n",
    "plt.plot(val_acc_hist_momentum, label=\"momentum\")\n",
    "plt.plot(val_acc_hist_nesterov, label=\"nadam\")\n",
    "plt.plot(val_acc_hist_adagrad, label=\"adagrad\")\n",
    "plt.plot(val_acc_hist_adam, label=\"adam\")\n",
    "plt.legend()\n",
    "plt.show()"
   ]
  },
  {
   "cell_type": "markdown",
   "metadata": {
    "id": "u4aY4q4wfmn2"
   },
   "source": [
    "<span style=\"color:red\">__TODO:__</span> Describe your results, and discuss your understandings of these optimizers, such as their advantages/disadvantages and when to use them."
   ]
  },
  {
   "cell_type": "markdown",
   "metadata": {
    "id": "uL5H31uzfmn3"
   },
   "source": [
    "Answer: **[1.\tSGD: \n",
    "SGD is the simplest optimization method that calculates the gradient of the mini-batch every iteration, and then updates the parameters.\n",
    "Disadvantage: 1. It is difficult to choose the right learning rate. 2. SGD is easy to converge to a local optimum, and in some cases may be trapped at the middle point. \n",
    "I think if we just trying to build a simple model, we can use it. \n",
    "\n",
    "2.\tMomentum:\n",
    "At the initial stage of descent, the last parameter update is used, the descent direction is the same, and the descent can be accelerated. (Shown in the plot, increasing really fast!!!)\n",
    "In the middle and late stages of the decline, when the local minimum oscillates back and forth, accelerate to jump out of the local minimum.\n",
    "I think if we want to accelerate the training time, we can use momentumGD. \n",
    "\n",
    "3.\tAdagrad\n",
    "At the beginning, the regularizer is large and can amplify the gradient. Then the regularizer is small and can constrain the gradient. (Shown in the plot, changing at about 8)\n",
    "Disadvantage: In the middle and late stages, the accumulation of squared gradients on the denominator will become larger and larger, early stop will occur. \n",
    "\n",
    "4.\tAdam\n",
    "Adam uses the first-order moment estimation and the second-order moment estimation of the gradient to dynamically adjust the learning rate of each parameter. The main advantage of Adam is that after bias correction, each iteration of the learning rate has a certain range, which makes the parameters relatively stable.\n",
    "\n",
    "5.\tNadam\n",
    "To me, I think NAdam is a combination of Nesterov accelerated gradient (NAG) and Adam. Nadam has a stronger constraint on the learning rate, and it also has a more direct impact on the update of the gradient.\n",
    "I think Nadam has a better performance than Adam. If the network is more complex, I would use Nadam.\n",
    "\n",
    "\n",
    "]**."
   ]
  },
  {
   "cell_type": "code",
   "execution_count": null,
   "metadata": {},
   "outputs": [],
   "source": []
  }
 ],
 "metadata": {
  "colab": {
   "collapsed_sections": [],
   "name": "task1-optimization.ipynb",
   "provenance": []
  },
  "kernelspec": {
   "display_name": "Python 3",
   "language": "python",
   "name": "python3"
  },
  "language_info": {
   "codemirror_mode": {
    "name": "ipython",
    "version": 3
   },
   "file_extension": ".py",
   "mimetype": "text/x-python",
   "name": "python",
   "nbconvert_exporter": "python",
   "pygments_lexer": "ipython3",
   "version": "3.6.9"
  }
 },
 "nbformat": 4,
 "nbformat_minor": 4
}
